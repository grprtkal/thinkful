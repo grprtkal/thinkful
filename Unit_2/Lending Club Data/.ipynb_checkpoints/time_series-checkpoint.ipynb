{
 "cells": [
  {
   "cell_type": "markdown",
   "metadata": {},
   "source": [
    "<h2>Time Series Analysis of Lending Club Data</h2>"
   ]
  },
  {
   "cell_type": "markdown",
   "metadata": {},
   "source": [
    "This notebook is an exercise in data exploration and data analysis using Lending Club Data. The Lending Club (https://www.lendingclub.com/) is an online platform that enables borrowers to apply for loans and investors to fund those loans while earning interest. \n",
    "\n",
    "Here, I create a monthly time series of loan counts based on the issue date."
   ]
  },
  {
   "cell_type": "markdown",
   "metadata": {},
   "source": [
    "<h3>Load the Data</h3>"
   ]
  },
  {
   "cell_type": "markdown",
   "metadata": {},
   "source": [
    "<p>Data is loaded from https://www.lendingclub.com/info/download-data.action.</p>"
   ]
  },
  {
   "cell_type": "code",
   "execution_count": 29,
   "metadata": {
    "collapsed": true
   },
   "outputs": [],
   "source": [
    "%matplotlib inline\n",
    "import pandas as pd\n",
    "import numpy as np"
   ]
  },
  {
   "cell_type": "code",
   "execution_count": 30,
   "metadata": {
    "collapsed": false
   },
   "outputs": [
    {
     "name": "stdout",
     "output_type": "stream",
     "text": [
      "         id  member_id  loan_amnt  funded_amnt  funded_amnt_inv        term  \\\n",
      "0  53624987   57155760       6000         6000             6000   36 months   \n",
      "1  53584764   57115519       6200         6200             6200   36 months   \n",
      "2  53222534   56742275      19000        19000            19000   36 months   \n",
      "3  53564350   57095071      21000        21000            20975   60 months   \n",
      "4  52038169   55467933      10000        10000            10000   60 months   \n",
      "\n",
      "  int_rate  installment grade sub_grade     ...     total_rec_late_fee  \\\n",
      "0   11.53%       197.95     B        B5     ...                      0   \n",
      "1    7.89%       193.98     A        A5     ...                      0   \n",
      "2    8.18%       596.97     B        B1     ...                      0   \n",
      "3   21.99%       579.88     F        F1     ...                      0   \n",
      "4   10.99%       217.38     B        B4     ...                      0   \n",
      "\n",
      "  recoveries collection_recovery_fee  last_pymnt_d last_pymnt_amnt  \\\n",
      "0          0                       0           NaN            0.00   \n",
      "1          0                       0      Jul-2015          193.98   \n",
      "2          0                       0      Jul-2015          596.97   \n",
      "3          0                       0           NaN            0.00   \n",
      "4          0                       0      Jul-2015          217.38   \n",
      "\n",
      "  next_pymnt_d last_credit_pull_d collections_12_mths_ex_med  \\\n",
      "0     Aug-2015           Jul-2015                          0   \n",
      "1     Aug-2015           Jul-2015                          0   \n",
      "2     Aug-2015           Jul-2015                          0   \n",
      "3     Aug-2015           Jul-2015                          0   \n",
      "4     Aug-2015           Jul-2015                          0   \n",
      "\n",
      "  mths_since_last_major_derog policy_code  \n",
      "0                         NaN           1  \n",
      "1                         NaN           1  \n",
      "2                          47           1  \n",
      "3                         NaN           1  \n",
      "4                         NaN           1  \n",
      "\n",
      "[5 rows x 52 columns]\n"
     ]
    }
   ],
   "source": [
    "df = pd.read_csv('LoanStats3d.csv', header=1, low_memory=False)\n",
    "print df.head()"
   ]
  },
  {
   "cell_type": "code",
   "execution_count": 31,
   "metadata": {
    "collapsed": false
   },
   "outputs": [
    {
     "data": {
      "text/plain": [
       "['id',\n",
       " 'member_id',\n",
       " 'loan_amnt',\n",
       " 'funded_amnt',\n",
       " 'funded_amnt_inv',\n",
       " 'term',\n",
       " 'int_rate',\n",
       " 'installment',\n",
       " 'grade',\n",
       " 'sub_grade',\n",
       " 'emp_title',\n",
       " 'emp_length',\n",
       " 'home_ownership',\n",
       " 'annual_inc',\n",
       " 'verification_status',\n",
       " 'issue_d',\n",
       " 'loan_status',\n",
       " 'pymnt_plan',\n",
       " 'url',\n",
       " 'desc',\n",
       " 'purpose',\n",
       " 'title',\n",
       " 'zip_code',\n",
       " 'addr_state',\n",
       " 'dti',\n",
       " 'delinq_2yrs',\n",
       " 'earliest_cr_line',\n",
       " 'inq_last_6mths',\n",
       " 'mths_since_last_delinq',\n",
       " 'mths_since_last_record',\n",
       " 'open_acc',\n",
       " 'pub_rec',\n",
       " 'revol_bal',\n",
       " 'revol_util',\n",
       " 'total_acc',\n",
       " 'initial_list_status',\n",
       " 'out_prncp',\n",
       " 'out_prncp_inv',\n",
       " 'total_pymnt',\n",
       " 'total_pymnt_inv',\n",
       " 'total_rec_prncp',\n",
       " 'total_rec_int',\n",
       " 'total_rec_late_fee',\n",
       " 'recoveries',\n",
       " 'collection_recovery_fee',\n",
       " 'last_pymnt_d',\n",
       " 'last_pymnt_amnt',\n",
       " 'next_pymnt_d',\n",
       " 'last_credit_pull_d',\n",
       " 'collections_12_mths_ex_med',\n",
       " 'mths_since_last_major_derog',\n",
       " 'policy_code']"
      ]
     },
     "execution_count": 31,
     "metadata": {},
     "output_type": "execute_result"
    }
   ],
   "source": [
    "# get list of all column names to understand all the data available\n",
    "\n",
    "list(df.columns.values)"
   ]
  },
  {
   "cell_type": "markdown",
   "metadata": {},
   "source": [
    "<h3>Data Wrangling</h3>"
   ]
  },
  {
   "cell_type": "markdown",
   "metadata": {},
   "source": [
    "<p>The data requires a little bit of clean up. I need to convert the issue date from a string format to a datetime object which is then used for plotting.</p>"
   ]
  },
  {
   "cell_type": "code",
   "execution_count": 32,
   "metadata": {
    "collapsed": false
   },
   "outputs": [
    {
     "name": "stdout",
     "output_type": "stream",
     "text": [
      "0         Jun-2015\n",
      "1         Jun-2015\n",
      "2         Jun-2015\n",
      "3         Jun-2015\n",
      "4         Jun-2015\n",
      "5         Jun-2015\n",
      "6         Jun-2015\n",
      "7         Jun-2015\n",
      "8         Jun-2015\n",
      "9         Jun-2015\n",
      "10        Jun-2015\n",
      "11        Jun-2015\n",
      "12        Jun-2015\n",
      "13        Jun-2015\n",
      "14        Jun-2015\n",
      "15        Jun-2015\n",
      "16        Jun-2015\n",
      "17        Jun-2015\n",
      "18        Jun-2015\n",
      "19        Jun-2015\n",
      "20        Jun-2015\n",
      "21        Jun-2015\n",
      "22        Jun-2015\n",
      "23        Jun-2015\n",
      "24        Jun-2015\n",
      "25        Jun-2015\n",
      "26        Jun-2015\n",
      "27        Jun-2015\n",
      "28        Jun-2015\n",
      "29        Jun-2015\n",
      "            ...   \n",
      "180074    Jan-2015\n",
      "180075    Jan-2015\n",
      "180076    Jan-2015\n",
      "180077    Jan-2015\n",
      "180078    Jan-2015\n",
      "180079    Jan-2015\n",
      "180080    Jan-2015\n",
      "180081    Jan-2015\n",
      "180082    Jan-2015\n",
      "180083    Jan-2015\n",
      "180084    Jan-2015\n",
      "180085    Jan-2015\n",
      "180086    Jan-2015\n",
      "180087    Jan-2015\n",
      "180088    Jan-2015\n",
      "180089    Jan-2015\n",
      "180090    Jan-2015\n",
      "180091    Jan-2015\n",
      "180092    Jan-2015\n",
      "180093    Jan-2015\n",
      "180094    Jan-2015\n",
      "180095    Jan-2015\n",
      "180096    Jan-2015\n",
      "180097    Jan-2015\n",
      "180098    Jan-2015\n",
      "180099    Jan-2015\n",
      "180100    Jan-2015\n",
      "180101    Jan-2015\n",
      "180102         NaN\n",
      "180103         NaN\n",
      "Name: issue_d, dtype: object\n"
     ]
    }
   ],
   "source": [
    "issue_d = df[\"issue_d\"]\n",
    "print issue_d"
   ]
  },
  {
   "cell_type": "code",
   "execution_count": 33,
   "metadata": {
    "collapsed": false
   },
   "outputs": [],
   "source": [
    "# converts string to datetime object \n",
    "\n",
    "df['issue_d_format'] = pd.to_datetime(df['issue_d']) \n",
    "dfts = df.set_index('issue_d_format') \n",
    "year_month_summary = dfts.groupby(lambda x : x.year * 100 + x.month).count()\n",
    "loan_count_summary = year_month_summary['issue_d']\n"
   ]
  },
  {
   "cell_type": "markdown",
   "metadata": {},
   "source": [
    "<h3>Data Visualization</h3>"
   ]
  },
  {
   "cell_type": "markdown",
   "metadata": {},
   "source": [
    "<p>I use a simple plot which shows the amount of loans issued by month.</p>"
   ]
  },
  {
   "cell_type": "code",
   "execution_count": 34,
   "metadata": {
    "collapsed": false
   },
   "outputs": [
    {
     "data": {
      "text/plain": [
       "<matplotlib.axes._subplots.AxesSubplot at 0x1164bc190>"
      ]
     },
     "execution_count": 34,
     "metadata": {},
     "output_type": "execute_result"
    },
    {
     "data": {
      "image/png": "[encoded data removed]",
      "text/plain": [
       "<matplotlib.figure.Figure at 0x1164b8c50>"
      ]
     },
     "metadata": {},
     "output_type": "display_data"
    }
   ],
   "source": [
    "loan_count_summary.plot()\n",
    "\n",
    "# how to convert 0, 1, 2, 3, 4, 5 to month? "
   ]
  }
 ],
 "metadata": {
  "kernelspec": {
   "display_name": "Python 2",
   "language": "python",
   "name": "python2"
  },
  "language_info": {
   "codemirror_mode": {
    "name": "ipython",
    "version": 2
   },
   "file_extension": ".py",
   "mimetype": "text/x-python",
   "name": "python",
   "nbconvert_exporter": "python",
   "pygments_lexer": "ipython2",
   "version": "2.7.10"
  }
 },
 "nbformat": 4,
 "nbformat_minor": 0
}
